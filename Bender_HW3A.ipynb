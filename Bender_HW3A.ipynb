{
  "nbformat": 4,
  "nbformat_minor": 0,
  "metadata": {
    "colab": {
      "provenance": []
    },
    "kernelspec": {
      "name": "python3",
      "display_name": "Python 3"
    },
    "language_info": {
      "name": "python"
    }
  },
  "cells": [
    {
      "cell_type": "markdown",
      "source": [
        "## **Problem 1**"
      ],
      "metadata": {
        "id": "SmzRdfWSaFrk"
      }
    },
    {
      "cell_type": "code",
      "source": [
        "from scipy.stats import chi2_contingency\n",
        "import numpy as np\n",
        "\n",
        "# Data\n",
        "data = np.array([\n",
        "    [11, 13, 9],  # No relief\n",
        "    [32, 28, 27], # Some relief\n",
        "    [7, 9, 14]    # Total relief\n",
        "])"
      ],
      "metadata": {
        "id": "yGALYBFNgNyA"
      },
      "execution_count": 1,
      "outputs": []
    },
    {
      "cell_type": "markdown",
      "source": [
        "#### Test the hypothesis, at a 5% level of significance, that the three cough remedies are equally effective."
      ],
      "metadata": {
        "id": "N2OigvMygQ8i"
      }
    },
    {
      "cell_type": "code",
      "execution_count": 3,
      "metadata": {
        "colab": {
          "base_uri": "https://localhost:8080/"
        },
        "id": "Bxp_FfVKZYcD",
        "outputId": "8430bebf-d1fb-4624-f54a-103be973ed99"
      },
      "outputs": [
        {
          "output_type": "stream",
          "name": "stdout",
          "text": [
            "Chi-square statistic: 3.81\n",
            "Degrees of freedom: 4\n",
            "p-value: 0.43\n",
            "Expected frequencies under the null hypothesis: \n",
            " [[11. 11. 11.]\n",
            " [29. 29. 29.]\n",
            " [10. 10. 10.]]\n",
            "Fails to reject the null hypothesis, suggesting no significant difference in effectiveness among the remedies.\n"
          ]
        }
      ],
      "source": [
        "# Perform Chi-square test\n",
        "chi2_stat, p_value, df, expected = chi2_contingency(data)\n",
        "\n",
        "# Print results\n",
        "print(f\"Chi-square statistic: {chi2_stat:.2f}\")\n",
        "print(f\"Degrees of freedom: {df}\")\n",
        "print(f\"p-value: {p_value:.2f}\")\n",
        "print(f\"Expected frequencies under the null hypothesis: \\n {expected}\")\n",
        "\n",
        "# Interpretation\n",
        "if p_value < 0.05:\n",
        "    print(\"Rejects the null hypothesis, suggesting a significant difference in effectiveness among the remedies.\")\n",
        "else:\n",
        "    print(\"Fails to reject the null hypothesis, suggesting no significant difference in effectiveness among the remedies.\")"
      ]
    },
    {
      "cell_type": "markdown",
      "source": [
        "## **Problem 2**"
      ],
      "metadata": {
        "id": "qq4jDPSQceam"
      }
    },
    {
      "cell_type": "code",
      "source": [
        "from scipy.stats import pearsonr, norm\n",
        "\n",
        "# Data\n",
        "x = np.array([106.2, 106.3, 105.3, 106.1, 105.4, 106.3, 104.7, 105.4, 105.5, 105.1])\n",
        "y = np.array([35.0, 37.2, 39.8, 35.8, 41.3, 40.7, 38.7, 40.2, 38.1, 41.6])"
      ],
      "metadata": {
        "id": "W7Ha2TTsa_00"
      },
      "execution_count": 4,
      "outputs": []
    },
    {
      "cell_type": "markdown",
      "source": [
        "#### (a) Find the 95% confidence interval for 𝜌, the correlation coefficient between tensile strength and hardness."
      ],
      "metadata": {
        "id": "ha5UJ_qMdD--"
      }
    },
    {
      "cell_type": "code",
      "source": [
        "# Calculate the sample correlation coefficient (r)\n",
        "r = pearsonr(x, y)[0]\n",
        "\n",
        "# Fisher Z-transformation of the correlation coefficient\n",
        "Z = 0.5 * np.log((1 + r) / (1 - r))\n",
        "\n",
        "# Standard error of Z\n",
        "SE_Z = 1 / np.sqrt(len(x) - 3)\n",
        "\n",
        "# 95% confidence interval for Z\n",
        "Z_alpha_2 = norm.ppf(0.975)  # Z value for 95% CI\n",
        "CI_Z_lower = Z - Z_alpha_2 * SE_Z\n",
        "CI_Z_upper = Z + Z_alpha_2 * SE_Z\n",
        "\n",
        "# Inverse Fisher Z-transformation to get 95% CI for ρ\n",
        "CI_rho_lower = (np.exp(2 * CI_Z_lower) - 1) / (np.exp(2 * CI_Z_lower) + 1)\n",
        "CI_rho_upper = (np.exp(2 * CI_Z_upper) - 1) / (np.exp(2 * CI_Z_upper) + 1)\n",
        "\n",
        "# Print the 95% CI for ρ\n",
        "print(f\"95% confidence interval for ρ: ({CI_rho_lower:.4f}, {CI_rho_upper:.4f})\")"
      ],
      "metadata": {
        "colab": {
          "base_uri": "https://localhost:8080/"
        },
        "id": "iGg4qivOdDir",
        "outputId": "dac5dcae-3884-4342-d58a-514f6a4aa013"
      },
      "execution_count": 5,
      "outputs": [
        {
          "output_type": "stream",
          "name": "stdout",
          "text": [
            "95% confidence interval for ρ: (-0.8632, 0.1739)\n"
          ]
        }
      ]
    },
    {
      "cell_type": "markdown",
      "source": [
        "#### (b) Can you conclude that 𝜌 < 0.3?"
      ],
      "metadata": {
        "id": "NoN5gku2e1-x"
      }
    },
    {
      "cell_type": "code",
      "source": [
        "# Determine if ρ < 0.3 based on the CI\n",
        "if CI_rho_upper < 0.3:\n",
        "    print(\"Yes, can conclude ρ < 0.3 based on the confidence interval.\")\n",
        "else:\n",
        "    print(\"No, cannot conclude ρ < 0.3 based on the confidence interval.\")\n"
      ],
      "metadata": {
        "colab": {
          "base_uri": "https://localhost:8080/"
        },
        "id": "tFKPgcLve_8p",
        "outputId": "c57dd8ce-e551-4913-cfff-a99aede176af"
      },
      "execution_count": 6,
      "outputs": [
        {
          "output_type": "stream",
          "name": "stdout",
          "text": [
            "Yes, can conclude ρ < 0.3 based on the confidence interval.\n"
          ]
        }
      ]
    },
    {
      "cell_type": "markdown",
      "source": [
        "#### (c) Can you conclude that 𝜌 ≠ 0?"
      ],
      "metadata": {
        "id": "fYdR_BJMe2BO"
      }
    },
    {
      "cell_type": "code",
      "source": [
        "# Determine if ρ ≠ 0 based on the CI\n",
        "if CI_rho_lower > 0 or CI_rho_upper < 0:\n",
        "    print(\"Yes, can conclude ρ ≠ 0 based on the confidence interval.\")\n",
        "else:\n",
        "    print(\"No, cannot definitively conclude ρ ≠ 0 based on the confidence interval.\")\n"
      ],
      "metadata": {
        "colab": {
          "base_uri": "https://localhost:8080/"
        },
        "id": "N2-o2HQ5e9RI",
        "outputId": "1d213df8-35fb-4707-d2a6-57812c0bee4d"
      },
      "execution_count": 7,
      "outputs": [
        {
          "output_type": "stream",
          "name": "stdout",
          "text": [
            "No, cannot definitively conclude ρ ≠ 0 based on the confidence interval.\n"
          ]
        }
      ]
    },
    {
      "cell_type": "markdown",
      "source": [
        "## **Problem 3**"
      ],
      "metadata": {
        "id": "fgOuvo5PfKsH"
      }
    },
    {
      "cell_type": "code",
      "source": [
        "# Data\n",
        "r = 0.86\n",
        "mean_x = 126  # Average file size in Kbytes\n",
        "std_x = 35    # Standard deviation of file size\n",
        "mean_y = 0.04 # Average transmittance time in seconds\n",
        "std_y = 0.01  # Standard deviation of transmittance time"
      ],
      "metadata": {
        "id": "nWOP9fvXf2ET"
      },
      "execution_count": 8,
      "outputs": []
    },
    {
      "cell_type": "markdown",
      "source": [
        "#### (a) Compute the least squares regression line which describes how the time it takes to transmit a depends on the file size."
      ],
      "metadata": {
        "id": "uN16ZiYrfjIb"
      }
    },
    {
      "cell_type": "code",
      "source": [
        "# Calculate slope (b)\n",
        "b = r * (std_y / std_x)\n",
        "\n",
        "# Calculate intercept (a)\n",
        "a = mean_y - b * mean_x\n",
        "\n",
        "# Print the regression line equation\n",
        "print(f\"Regression line: Y = {a} + {b}X\")"
      ],
      "metadata": {
        "colab": {
          "base_uri": "https://localhost:8080/"
        },
        "id": "wmYhd1MdfHFy",
        "outputId": "488ffede-d586-4110-ea5f-5cfab94ad1db"
      },
      "execution_count": 9,
      "outputs": [
        {
          "output_type": "stream",
          "name": "stdout",
          "text": [
            "Regression line: Y = 0.00904 + 0.00024571428571428574X\n"
          ]
        }
      ]
    },
    {
      "cell_type": "markdown",
      "source": [
        "#### (b) Use 𝑟^2 to evaluate the goodness of fit. Is this a good model?"
      ],
      "metadata": {
        "id": "9r_QDWkbfml5"
      }
    },
    {
      "cell_type": "code",
      "source": [
        "# Given the correlation coefficient (r)\n",
        "r_squared = r**2\n",
        "\n",
        "# Print the coefficient of determination\n",
        "print(f\"Coefficient of determination (r^2): {r_squared:.4f}\")\n"
      ],
      "metadata": {
        "colab": {
          "base_uri": "https://localhost:8080/"
        },
        "id": "MvhDr1ZUfp-g",
        "outputId": "f9f87da5-e674-4410-fbba-e226f8657027"
      },
      "execution_count": 10,
      "outputs": [
        {
          "output_type": "stream",
          "name": "stdout",
          "text": [
            "Coefficient of determination (r^2): 0.7396\n"
          ]
        }
      ]
    },
    {
      "cell_type": "markdown",
      "source": [
        "#### (c) Predict the time it will take to transmit 400 Kbytes file."
      ],
      "metadata": {
        "id": "VdhVNhHIfq-7"
      }
    },
    {
      "cell_type": "code",
      "source": [
        "# File size to predict transmittance time for\n",
        "x_predict = 400\n",
        "\n",
        "# Calculate the predicted transmittance time\n",
        "y_predict = a + b * x_predict\n",
        "\n",
        "# Print the predicted time\n",
        "print(f\"Predicted transmittance time for a 400 Kbytes file: {y_predict:.4f} seconds\")\n"
      ],
      "metadata": {
        "colab": {
          "base_uri": "https://localhost:8080/"
        },
        "id": "rFxvGs5Kftrp",
        "outputId": "93804bf7-261a-4e6d-dd2f-7d3416e4936c"
      },
      "execution_count": 17,
      "outputs": [
        {
          "output_type": "stream",
          "name": "stdout",
          "text": [
            "Predicted transmittance time for a 400 Kbytes file: 0.1073 seconds\n"
          ]
        }
      ]
    },
    {
      "cell_type": "markdown",
      "source": [
        "## **Problem 4**"
      ],
      "metadata": {
        "id": "7K_p3GwSgh9p"
      }
    },
    {
      "cell_type": "code",
      "source": [
        "# Data\n",
        "temperature = np.array([110, 110, 111, 111, 112, 112, 114, 114, 117, 117, 122, 122, 130, 130, 143, 143])\n",
        "stirring_rate = np.array([30, 32, 34, 36, 38, 40, 42, 44, 46, 48, 50, 52, 54, 56, 58, 60])\n",
        "yield_percent = np.array([70.27, 72.29, 72.57, 74.69, 76.09, 73.14, 75.61, 69.56, 74.41, 73.49, 79.18, 75.44, 81.71, 83.03, 76.98, 80.99])\n"
      ],
      "metadata": {
        "id": "bGzlR4fvf9Vr"
      },
      "execution_count": 18,
      "outputs": []
    },
    {
      "cell_type": "markdown",
      "source": [
        "#### (a) Compute the correlation coefficient between temperature and yield, between stirring rate and yield, and between temperature and stirring rate."
      ],
      "metadata": {
        "id": "yVcMAz6wgofo"
      }
    },
    {
      "cell_type": "code",
      "source": [
        "# Calculate correlation coefficients\n",
        "corr_temp_yield = pearsonr(temperature, yield_percent)[0]\n",
        "corr_stir_yield = pearsonr(stirring_rate, yield_percent)[0]\n",
        "corr_temp_stir = pearsonr(temperature, stirring_rate)[0]\n",
        "\n",
        "print(f\"Correlation between temperature and yield: {corr_temp_yield:.4f}\")\n",
        "print(f\"Correlation between stirring rate and yield: {corr_stir_yield:.4f}\")\n",
        "print(f\"Correlation between temperature and stirring rate: {corr_temp_stir:.4f}\")"
      ],
      "metadata": {
        "colab": {
          "base_uri": "https://localhost:8080/"
        },
        "id": "7iMJusNDgqbX",
        "outputId": "a154b840-b4b7-4ae6-9cee-5bbbaeba9140"
      },
      "execution_count": 19,
      "outputs": [
        {
          "output_type": "stream",
          "name": "stdout",
          "text": [
            "Correlation between temperature and yield: 0.7323\n",
            "Correlation between stirring rate and yield: 0.7513\n",
            "Correlation between temperature and stirring rate: 0.9064\n"
          ]
        }
      ]
    },
    {
      "cell_type": "markdown",
      "source": [
        "#### (b) Do these data provide a good evidence that increasing the temperature causes the yield to increase, within the range of the data? Or might the result be due to confounding? Explain."
      ],
      "metadata": {
        "id": "z8pzHk0rgq9_"
      }
    },
    {
      "cell_type": "code",
      "source": [
        "# Interpret the effect of temperature on yield\n",
        "if corr_temp_yield > 0.7:\n",
        "    print(\"There's a strong positive correlation between temperature and yield, suggesting that as temperature increases, yield also tends to increase. This could indicate that increasing the temperature causes the yield to increase within the data range.\")\n",
        "else:\n",
        "    print(\"The correlation between temperature and yield is not strong enough to conclusively determine a direct causal relationship.\")\n",
        "\n",
        "# Evaluate potential confounding with stirring rate\n",
        "if corr_temp_stir > 0.7:\n",
        "    print(\"However, the high correlation between temperature and stirring rate (0.9064) indicates potential confounding. This means it's difficult to determine whether the increase in yield is due solely to temperature without considering the influence of stirring rate.\")\n"
      ],
      "metadata": {
        "colab": {
          "base_uri": "https://localhost:8080/"
        },
        "id": "Z5ZBJNlMgubG",
        "outputId": "575eefe7-72e7-4eba-d740-1c74c371ec47"
      },
      "execution_count": 20,
      "outputs": [
        {
          "output_type": "stream",
          "name": "stdout",
          "text": [
            "There's a strong positive correlation between temperature and yield, suggesting that as temperature increases, yield also tends to increase. This could indicate that increasing the temperature causes the yield to increase within the data range.\n",
            "However, the high correlation between temperature and stirring rate (0.9064) indicates potential confounding. This means it's difficult to determine whether the increase in yield is due solely to temperature without considering the influence of stirring rate.\n"
          ]
        }
      ]
    },
    {
      "cell_type": "markdown",
      "source": [
        "#### (c) Do these data provide a good evidence that increasing the stirring rate causes the yield to increase, within the range of the data? Or might the result be due to confounding? Explain"
      ],
      "metadata": {
        "id": "4NlPBnJhguze"
      }
    },
    {
      "cell_type": "code",
      "source": [
        "# Interpret the effect of stirring rate on yield\n",
        "if corr_stir_yield > 0.7:\n",
        "    print(\"There's a strong positive correlation between stirring rate and yield, suggesting that as stirring rate increases, yield also tends to increase. This could indicate that increasing the stirring rate causes the yield to increase within the data range.\")\n",
        "else:\n",
        "    print(\"The correlation between stirring rate and yield is not strong enough to conclusively determine a direct causal relationship.\")\n",
        "\n",
        "# Evaluate potential confounding with temperature\n",
        "if corr_temp_stir > 0.7:\n",
        "    print(\"However, considering the high correlation between temperature and stirring rate, it's challenging to isolate the effect of stirring rate on yield without accounting for the potential confounding effect of temperature. This complexity suggests that both factors might be influencing yield, making it difficult to attribute changes in yield solely to changes in stirring rate.\")\n"
      ],
      "metadata": {
        "colab": {
          "base_uri": "https://localhost:8080/"
        },
        "id": "aw4cRROlgxkL",
        "outputId": "d368e3ba-5dde-490b-c39d-8c426cf7cae0"
      },
      "execution_count": 21,
      "outputs": [
        {
          "output_type": "stream",
          "name": "stdout",
          "text": [
            "There's a strong positive correlation between stirring rate and yield, suggesting that as stirring rate increases, yield also tends to increase. This could indicate that increasing the stirring rate causes the yield to increase within the data range.\n",
            "However, considering the high correlation between temperature and stirring rate, it's challenging to isolate the effect of stirring rate on yield without accounting for the potential confounding effect of temperature. This complexity suggests that both factors might be influencing yield, making it difficult to attribute changes in yield solely to changes in stirring rate.\n"
          ]
        }
      ]
    }
  ]
}